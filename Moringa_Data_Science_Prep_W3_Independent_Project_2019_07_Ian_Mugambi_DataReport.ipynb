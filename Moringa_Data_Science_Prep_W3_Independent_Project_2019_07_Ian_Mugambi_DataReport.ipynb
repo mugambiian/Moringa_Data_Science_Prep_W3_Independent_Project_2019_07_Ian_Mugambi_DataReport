{
  "nbformat": 4,
  "nbformat_minor": 0,
  "metadata": {
    "colab": {
      "name": "Untitled2.ipynb",
      "provenance": [],
      "authorship_tag": "ABX9TyOBoEFLdNVGJ5hlOh7vzwgY",
      "include_colab_link": true
    },
    "kernelspec": {
      "name": "python3",
      "display_name": "Python 3"
    }
  },
  "cells": [
    {
      "cell_type": "markdown",
      "metadata": {
        "id": "view-in-github",
        "colab_type": "text"
      },
      "source": [
        "<a href=\"https://colab.research.google.com/github/mugambiian/Moringa_Data_Science_Prep_W3_Independent_Project_2019_07_Ian_Mugambi_DataReport/blob/master/Moringa_Data_Science_Prep_W3_Independent_Project_2019_07_Ian_Mugambi_DataReport.ipynb\" target=\"_parent\"><img src=\"https://colab.research.google.com/assets/colab-badge.svg\" alt=\"Open In Colab\"/></a>"
      ]
    },
    {
      "cell_type": "code",
      "metadata": {
        "id": "OtyF93wSkS27",
        "colab_type": "code",
        "colab": {
          "base_uri": "https://localhost:8080/",
          "height": 289
        },
        "outputId": "a1139942-6297-4a84-d165-a3dad14c99cc"
      },
      "source": [
        "import pandas as pd\n",
        "import numpy as np\n",
        "\n",
        "#We load our first dataset from the cells and check the fist 5 records to see that the columns headings\n",
        "df = pd.read_csv('cells_geo.csv', delimiter = ',')\n",
        "df.head()\n",
        "\n",
        "df= pd.read_csv('Telcom_dataset.csv', delimiter =',')\n",
        "df.head()"
      ],
      "execution_count": 6,
      "outputs": [
        {
          "output_type": "execute_result",
          "data": {
            "text/html": [
              "<div>\n",
              "<style scoped>\n",
              "    .dataframe tbody tr th:only-of-type {\n",
              "        vertical-align: middle;\n",
              "    }\n",
              "\n",
              "    .dataframe tbody tr th {\n",
              "        vertical-align: top;\n",
              "    }\n",
              "\n",
              "    .dataframe thead th {\n",
              "        text-align: right;\n",
              "    }\n",
              "</style>\n",
              "<table border=\"1\" class=\"dataframe\">\n",
              "  <thead>\n",
              "    <tr style=\"text-align: right;\">\n",
              "      <th></th>\n",
              "      <th>PRODUTC</th>\n",
              "      <th>VALUE</th>\n",
              "      <th>DATETIME</th>\n",
              "      <th>CELL_ON_SITE</th>\n",
              "      <th>DW_A_NUMBER_INT</th>\n",
              "      <th>DW_B_NUMBER_INT</th>\n",
              "      <th>COUNTRY_A</th>\n",
              "      <th>COUNTRY_B</th>\n",
              "      <th>CELL_ID</th>\n",
              "      <th>SITE_ID</th>\n",
              "    </tr>\n",
              "  </thead>\n",
              "  <tbody>\n",
              "    <tr>\n",
              "      <th>0</th>\n",
              "      <td>Voice</td>\n",
              "      <td>0</td>\n",
              "      <td>2012-05-06 23:04:37.0</td>\n",
              "      <td>1</td>\n",
              "      <td>49fae048b547780</td>\n",
              "      <td>1a49f8b0ded9de6</td>\n",
              "      <td>19e2e</td>\n",
              "      <td>19e2e</td>\n",
              "      <td>/TJNe+Mmtu</td>\n",
              "      <td>/TJNe+Mmtu</td>\n",
              "    </tr>\n",
              "    <tr>\n",
              "      <th>1</th>\n",
              "      <td>sms</td>\n",
              "      <td>0</td>\n",
              "      <td>2012-05-06 23:05:25.0</td>\n",
              "      <td>0</td>\n",
              "      <td>7a54a6eaee19e65</td>\n",
              "      <td>93343ba6e41af95</td>\n",
              "      <td>19e2e</td>\n",
              "      <td>19e2e</td>\n",
              "      <td>/+cKZKIp41</td>\n",
              "      <td>/+cKZKIp41</td>\n",
              "    </tr>\n",
              "    <tr>\n",
              "      <th>2</th>\n",
              "      <td>sms</td>\n",
              "      <td>25</td>\n",
              "      <td>2012-05-06 23:05:41.0</td>\n",
              "      <td>0</td>\n",
              "      <td>6008887b0207d82</td>\n",
              "      <td>7aacc9709ce0a20</td>\n",
              "      <td>19e2e</td>\n",
              "      <td>19e2e</td>\n",
              "      <td>/u0FSD+ahi</td>\n",
              "      <td>/u0FSD+ahi</td>\n",
              "    </tr>\n",
              "    <tr>\n",
              "      <th>3</th>\n",
              "      <td>Voice</td>\n",
              "      <td>56</td>\n",
              "      <td>2012-05-06 23:05:42.0</td>\n",
              "      <td>1</td>\n",
              "      <td>7370032e20f4e96</td>\n",
              "      <td>6af4a60e74c91d3</td>\n",
              "      <td>19e2e</td>\n",
              "      <td>19e2e</td>\n",
              "      <td>+cNeJzsTp3</td>\n",
              "      <td>+cNeJzsTp3</td>\n",
              "    </tr>\n",
              "    <tr>\n",
              "      <th>4</th>\n",
              "      <td>Voice</td>\n",
              "      <td>14</td>\n",
              "      <td>2012-05-06 23:06:29.0</td>\n",
              "      <td>1</td>\n",
              "      <td>966ba4656e38e62</td>\n",
              "      <td>02aa736ee555d5c</td>\n",
              "      <td>19e2e</td>\n",
              "      <td>19e2e</td>\n",
              "      <td>051KhYDCpv</td>\n",
              "      <td>051KhYDCpv</td>\n",
              "    </tr>\n",
              "  </tbody>\n",
              "</table>\n",
              "</div>"
            ],
            "text/plain": [
              "  PRODUTC  VALUE               DATETIME  ... COUNTRY_B     CELL_ID     SITE_ID\n",
              "0   Voice      0  2012-05-06 23:04:37.0  ...     19e2e  /TJNe+Mmtu  /TJNe+Mmtu\n",
              "1     sms      0  2012-05-06 23:05:25.0  ...     19e2e  /+cKZKIp41  /+cKZKIp41\n",
              "2     sms     25  2012-05-06 23:05:41.0  ...     19e2e  /u0FSD+ahi  /u0FSD+ahi\n",
              "3   Voice     56  2012-05-06 23:05:42.0  ...     19e2e  +cNeJzsTp3  +cNeJzsTp3\n",
              "4   Voice     14  2012-05-06 23:06:29.0  ...     19e2e  051KhYDCpv  051KhYDCpv\n",
              "\n",
              "[5 rows x 10 columns]"
            ]
          },
          "metadata": {
            "tags": []
          },
          "execution_count": 6
        }
      ]
    }
  ]
}